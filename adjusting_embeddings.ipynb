{
 "cells": [
  {
   "cell_type": "code",
   "execution_count": 2,
   "metadata": {},
   "outputs": [],
   "source": [
    "import torch\n",
    "import numpy as np\n",
    "import clip as clip"
   ]
  },
  {
   "cell_type": "code",
   "execution_count": 3,
   "metadata": {},
   "outputs": [],
   "source": [
    "test_embeddings_raw = np.load('data/embeddings/test_raw.npy')\n",
    "train_embeddings_raw = np.load('data/embeddings/train_raw.npy')\n",
    "val_embeddings_raw = np.load('data/embeddings/val_raw.npy')\n",
    "\n"
   ]
  },
  {
   "cell_type": "code",
   "execution_count": 4,
   "metadata": {},
   "outputs": [],
   "source": [
    "test_embeddings_normalized = test_embeddings_raw / np.linalg.norm(test_embeddings_raw, axis=1)[:, None]\n",
    "train_embeddings_normalized = train_embeddings_raw / np.linalg.norm(train_embeddings_raw, axis=1)[:, None]\n",
    "val_embeddings_normalized = val_embeddings_raw / np.linalg.norm(val_embeddings_raw, axis=1)[:, None]\n",
    "\n",
    "train_center = np.mean(train_embeddings_normalized, axis=0)\n",
    "np.save('data/embeddings/train_center.npy', train_center)\n",
    "\n",
    "test_embeddings = test_embeddings_normalized - train_center\n",
    "train_embeddings = train_embeddings_normalized - train_center\n",
    "val_embeddings = val_embeddings_normalized - train_center\n",
    "\n",
    "test_embeddings = test_embeddings / np.linalg.norm(test_embeddings, axis=1)[:, None]\n",
    "train_embeddings = train_embeddings / np.linalg.norm(train_embeddings, axis=1)[:, None]\n",
    "val_embeddings = val_embeddings / np.linalg.norm(val_embeddings, axis=1)[:, None]\n",
    "\n",
    "np.save('data/embeddings/test_centered.npy', test_embeddings)\n",
    "np.save('data/embeddings/train_centered.npy', train_embeddings)\n",
    "np.save('data/embeddings/val_centered.npy', val_embeddings)"
   ]
  },
  {
   "cell_type": "code",
   "execution_count": 6,
   "metadata": {},
   "outputs": [
    {
     "name": "stdout",
     "output_type": "stream",
     "text": [
      "(118287, 512)\n"
     ]
    }
   ],
   "source": [
    "print(train_embeddings.shape)"
   ]
  },
  {
   "cell_type": "code",
   "execution_count": null,
   "metadata": {},
   "outputs": [],
   "source": [
    "with open('data/dict/mscoco.txt', 'r') as file:\n",
    "    vocab = file.read().splitlines()\n",
    "vocab = [w.split(\",\")[0] for w in vocab]\n",
    "concepts = vocab[-10000:]\n",
    "\n",
    "torch.cuda.empty_cache()\n",
    "gc.collect()\n",
    "\n",
    "device = \"cuda\" if torch.cuda.is_available() else \"cpu\"\n",
    "model, preprocess = clip.load(\"ViT-B/16\", device=device)\n",
    "\n",
    "batch_size = 50\n",
    "for i in tqdm(range(0, len(concepts), batch_size)):\n",
    "    text = clip.tokenize(concepts[i:i+batch_size]).to(device)\n",
    "    with torch.no_grad():\n",
    "        text_features = model.encode_text(text)\n",
    "        text_features /= text_features.norm(dim=-1, keepdim=True)\n",
    "    if i == 0:\n",
    "        all_text_features = text_features\n",
    "    else:\n",
    "        all_text_features = torch.cat((all_text_features, text_features), 0)"
   ]
  },
  {
   "cell_type": "code",
   "execution_count": null,
   "metadata": {},
   "outputs": [],
   "source": [
    "np.save(\"data/dict/mscoco_clip.npy\", all_text_features.cpu().numpy())\n",
    "\n",
    "torch.cuda.empty_cache()\n",
    "gc.collect()\n",
    "\n",
    "concept_center = torch.mean(all_text_features, 0)\n",
    "print(concept_center.shape)\n",
    "center_text_features = all_text_features - concept_center\n",
    "center_text_features /= center_text_features.norm(dim=-1, keepdim=True)\n",
    "\n",
    "D = center_text_features.cpu()\n",
    "\n",
    "np.save(\"data/dict/mscoco_clip_centered.npy\", D)\n",
    "\n",
    "print(\"Done\")\n"
   ]
  }
 ],
 "metadata": {
  "kernelspec": {
   "display_name": "base",
   "language": "python",
   "name": "python3"
  },
  "language_info": {
   "codemirror_mode": {
    "name": "ipython",
    "version": 3
   },
   "file_extension": ".py",
   "mimetype": "text/x-python",
   "name": "python",
   "nbconvert_exporter": "python",
   "pygments_lexer": "ipython3",
   "version": "3.10.11"
  }
 },
 "nbformat": 4,
 "nbformat_minor": 2
}
